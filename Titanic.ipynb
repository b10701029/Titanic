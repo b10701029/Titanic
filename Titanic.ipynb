{
 "cells": [
  {
   "cell_type": "code",
   "execution_count": 1,
   "id": "a1f6283f",
   "metadata": {},
   "outputs": [],
   "source": [
    "import matplotlib.pyplot as plt\n",
    "import numpy as np\n",
    "import pandas as pd\n",
    "import seaborn as sns\n",
    "from sklearn.model_selection import  cross_val_score\n",
    "from xgboost import XGBRegressor\n",
    "import re\n",
    "import warnings\n",
    "warnings.filterwarnings('ignore')"
   ]
  },
  {
   "cell_type": "code",
   "execution_count": 2,
   "id": "3fcc9a7f",
   "metadata": {},
   "outputs": [],
   "source": [
    "train_df=pd.read_csv('d:/kaggle/Titanic/train.csv')\n",
    "test_df=pd.read_csv('d:/kaggle/Titanic/test.csv')"
   ]
  },
  {
   "cell_type": "code",
   "execution_count": 3,
   "id": "1e884d68",
   "metadata": {},
   "outputs": [
    {
     "data": {
      "text/plain": [
       "Index(['PassengerId', 'Survived', 'Pclass', 'Name', 'Sex', 'Age', 'SibSp',\n",
       "       'Parch', 'Ticket', 'Fare', 'Cabin', 'Embarked', 'train_test'],\n",
       "      dtype='object')"
      ]
     },
     "execution_count": 3,
     "metadata": {},
     "output_type": "execute_result"
    }
   ],
   "source": [
    "train_df['train_test'] = 1\n",
    "test_df['train_test'] = 0\n",
    "test_df['Survived'] = np.NaN\n",
    "all_data = pd.concat([train_df,test_df])\n",
    "%matplotlib inline\n",
    "all_data.columns"
   ]
  },
  {
   "cell_type": "code",
   "execution_count": 4,
   "id": "125ab2d7",
   "metadata": {},
   "outputs": [],
   "source": [
    "def get_title(name):\n",
    "    title_search = re.search(' ([A-Za-z]+)\\.', name)\n",
    "    # If the title exists, extract and return it.\n",
    "    if title_search:\n",
    "        return title_search.group(1)\n",
    "    return \"\""
   ]
  },
  {
   "cell_type": "code",
   "execution_count": 5,
   "id": "4797f698",
   "metadata": {},
   "outputs": [],
   "source": [
    "all_data['Title'] = all_data['Name'].apply(get_title)\n",
    "all_data['Title'] = all_data['Title'].replace('Mlle', 'Miss')\n",
    "all_data['Title'] = all_data['Title'].replace('Ms', 'Miss')\n",
    "all_data['Title'] = all_data['Title'].replace('Mme', 'Mrs')"
   ]
  },
  {
   "cell_type": "code",
   "execution_count": 6,
   "id": "011891f8",
   "metadata": {},
   "outputs": [],
   "source": [
    "all_data['Title'] = all_data['Title'].replace(\n",
    "       ['Lady', 'Countess','Capt', 'Col','Don', 'Dr', 'Major', 'Rev', 'Sir', 'Jonkheer', 'Dona'], \n",
    "       'Rare')"
   ]
  },
  {
   "cell_type": "code",
   "execution_count": 7,
   "id": "6864a59a",
   "metadata": {},
   "outputs": [],
   "source": [
    "all_data.Age = all_data.Age.fillna(train_df.Age.median())\n",
    "#all_data.Fare = all_data.Fare.fillna(training.Fare.mean())\n",
    "all_data.Fare = all_data.Fare.fillna(train_df.Fare.median())"
   ]
  },
  {
   "cell_type": "code",
   "execution_count": 8,
   "id": "4678673f",
   "metadata": {},
   "outputs": [],
   "source": [
    "all_data['numeric_ticket'] = all_data.Ticket.apply(lambda x: 1 if x.isnumeric() else 0)"
   ]
  },
  {
   "cell_type": "code",
   "execution_count": 9,
   "id": "41e2a892",
   "metadata": {},
   "outputs": [],
   "source": [
    "all_data['cabin_multiple'] = all_data.Cabin.apply(lambda x: 0 if pd.isna(x) else len(x.split(' ')))\n",
    "all_data['cabin_adv'] = all_data.Cabin.apply(lambda x: str(x)[0])"
   ]
  },
  {
   "cell_type": "code",
   "execution_count": 10,
   "id": "6d043080",
   "metadata": {},
   "outputs": [
    {
     "data": {
      "text/html": [
       "<div>\n",
       "<style scoped>\n",
       "    .dataframe tbody tr th:only-of-type {\n",
       "        vertical-align: middle;\n",
       "    }\n",
       "\n",
       "    .dataframe tbody tr th {\n",
       "        vertical-align: top;\n",
       "    }\n",
       "\n",
       "    .dataframe thead th {\n",
       "        text-align: right;\n",
       "    }\n",
       "</style>\n",
       "<table border=\"1\" class=\"dataframe\">\n",
       "  <thead>\n",
       "    <tr style=\"text-align: right;\">\n",
       "      <th></th>\n",
       "      <th>PassengerId</th>\n",
       "      <th>Survived</th>\n",
       "      <th>Pclass</th>\n",
       "      <th>Name</th>\n",
       "      <th>Sex</th>\n",
       "      <th>Age</th>\n",
       "      <th>SibSp</th>\n",
       "      <th>Parch</th>\n",
       "      <th>Ticket</th>\n",
       "      <th>Fare</th>\n",
       "      <th>Cabin</th>\n",
       "      <th>Embarked</th>\n",
       "      <th>train_test</th>\n",
       "      <th>Title</th>\n",
       "      <th>numeric_ticket</th>\n",
       "      <th>cabin_multiple</th>\n",
       "      <th>cabin_adv</th>\n",
       "    </tr>\n",
       "  </thead>\n",
       "  <tbody>\n",
       "    <tr>\n",
       "      <th>0</th>\n",
       "      <td>1</td>\n",
       "      <td>0.0</td>\n",
       "      <td>3</td>\n",
       "      <td>Braund, Mr. Owen Harris</td>\n",
       "      <td>male</td>\n",
       "      <td>22.0</td>\n",
       "      <td>1</td>\n",
       "      <td>0</td>\n",
       "      <td>A/5 21171</td>\n",
       "      <td>7.2500</td>\n",
       "      <td>NaN</td>\n",
       "      <td>S</td>\n",
       "      <td>1</td>\n",
       "      <td>Mr</td>\n",
       "      <td>0</td>\n",
       "      <td>0</td>\n",
       "      <td>n</td>\n",
       "    </tr>\n",
       "    <tr>\n",
       "      <th>1</th>\n",
       "      <td>2</td>\n",
       "      <td>1.0</td>\n",
       "      <td>1</td>\n",
       "      <td>Cumings, Mrs. John Bradley (Florence Briggs Th...</td>\n",
       "      <td>female</td>\n",
       "      <td>38.0</td>\n",
       "      <td>1</td>\n",
       "      <td>0</td>\n",
       "      <td>PC 17599</td>\n",
       "      <td>71.2833</td>\n",
       "      <td>C85</td>\n",
       "      <td>C</td>\n",
       "      <td>1</td>\n",
       "      <td>Mrs</td>\n",
       "      <td>0</td>\n",
       "      <td>1</td>\n",
       "      <td>C</td>\n",
       "    </tr>\n",
       "    <tr>\n",
       "      <th>2</th>\n",
       "      <td>3</td>\n",
       "      <td>1.0</td>\n",
       "      <td>3</td>\n",
       "      <td>Heikkinen, Miss. Laina</td>\n",
       "      <td>female</td>\n",
       "      <td>26.0</td>\n",
       "      <td>0</td>\n",
       "      <td>0</td>\n",
       "      <td>STON/O2. 3101282</td>\n",
       "      <td>7.9250</td>\n",
       "      <td>NaN</td>\n",
       "      <td>S</td>\n",
       "      <td>1</td>\n",
       "      <td>Miss</td>\n",
       "      <td>0</td>\n",
       "      <td>0</td>\n",
       "      <td>n</td>\n",
       "    </tr>\n",
       "    <tr>\n",
       "      <th>3</th>\n",
       "      <td>4</td>\n",
       "      <td>1.0</td>\n",
       "      <td>1</td>\n",
       "      <td>Futrelle, Mrs. Jacques Heath (Lily May Peel)</td>\n",
       "      <td>female</td>\n",
       "      <td>35.0</td>\n",
       "      <td>1</td>\n",
       "      <td>0</td>\n",
       "      <td>113803</td>\n",
       "      <td>53.1000</td>\n",
       "      <td>C123</td>\n",
       "      <td>S</td>\n",
       "      <td>1</td>\n",
       "      <td>Mrs</td>\n",
       "      <td>1</td>\n",
       "      <td>1</td>\n",
       "      <td>C</td>\n",
       "    </tr>\n",
       "    <tr>\n",
       "      <th>4</th>\n",
       "      <td>5</td>\n",
       "      <td>0.0</td>\n",
       "      <td>3</td>\n",
       "      <td>Allen, Mr. William Henry</td>\n",
       "      <td>male</td>\n",
       "      <td>35.0</td>\n",
       "      <td>0</td>\n",
       "      <td>0</td>\n",
       "      <td>373450</td>\n",
       "      <td>8.0500</td>\n",
       "      <td>NaN</td>\n",
       "      <td>S</td>\n",
       "      <td>1</td>\n",
       "      <td>Mr</td>\n",
       "      <td>1</td>\n",
       "      <td>0</td>\n",
       "      <td>n</td>\n",
       "    </tr>\n",
       "  </tbody>\n",
       "</table>\n",
       "</div>"
      ],
      "text/plain": [
       "   PassengerId  Survived  Pclass  \\\n",
       "0            1       0.0       3   \n",
       "1            2       1.0       1   \n",
       "2            3       1.0       3   \n",
       "3            4       1.0       1   \n",
       "4            5       0.0       3   \n",
       "\n",
       "                                                Name     Sex   Age  SibSp  \\\n",
       "0                            Braund, Mr. Owen Harris    male  22.0      1   \n",
       "1  Cumings, Mrs. John Bradley (Florence Briggs Th...  female  38.0      1   \n",
       "2                             Heikkinen, Miss. Laina  female  26.0      0   \n",
       "3       Futrelle, Mrs. Jacques Heath (Lily May Peel)  female  35.0      1   \n",
       "4                           Allen, Mr. William Henry    male  35.0      0   \n",
       "\n",
       "   Parch            Ticket     Fare Cabin Embarked  train_test Title  \\\n",
       "0      0         A/5 21171   7.2500   NaN        S           1    Mr   \n",
       "1      0          PC 17599  71.2833   C85        C           1   Mrs   \n",
       "2      0  STON/O2. 3101282   7.9250   NaN        S           1  Miss   \n",
       "3      0            113803  53.1000  C123        S           1   Mrs   \n",
       "4      0            373450   8.0500   NaN        S           1    Mr   \n",
       "\n",
       "   numeric_ticket  cabin_multiple cabin_adv  \n",
       "0               0               0         n  \n",
       "1               0               1         C  \n",
       "2               0               0         n  \n",
       "3               1               1         C  \n",
       "4               1               0         n  "
      ]
     },
     "execution_count": 10,
     "metadata": {},
     "output_type": "execute_result"
    }
   ],
   "source": [
    "all_data.head()"
   ]
  },
  {
   "cell_type": "code",
   "execution_count": 11,
   "id": "1415941b",
   "metadata": {},
   "outputs": [],
   "source": [
    "data=all_data.copy()"
   ]
  },
  {
   "cell_type": "code",
   "execution_count": 12,
   "id": "6f9167ef",
   "metadata": {},
   "outputs": [
    {
     "data": {
      "text/plain": [
       "S    914\n",
       "C    270\n",
       "Q    123\n",
       "Name: Embarked, dtype: int64"
      ]
     },
     "execution_count": 12,
     "metadata": {},
     "output_type": "execute_result"
    }
   ],
   "source": [
    "data.Embarked.value_counts()"
   ]
  },
  {
   "cell_type": "code",
   "execution_count": 13,
   "id": "12439701",
   "metadata": {},
   "outputs": [],
   "source": [
    "data['Embarked'] = data['Embarked'].replace('S', 1)\n",
    "data['Embarked'] = data['Embarked'].replace('C', 2)\n",
    "data['Embarked'] = data['Embarked'].replace('Q', 3)"
   ]
  },
  {
   "cell_type": "code",
   "execution_count": 14,
   "id": "0bae8853",
   "metadata": {},
   "outputs": [
    {
     "data": {
      "text/plain": [
       "n    1014\n",
       "C      94\n",
       "B      65\n",
       "D      46\n",
       "E      41\n",
       "A      22\n",
       "F      21\n",
       "G       5\n",
       "T       1\n",
       "Name: cabin_adv, dtype: int64"
      ]
     },
     "execution_count": 14,
     "metadata": {},
     "output_type": "execute_result"
    }
   ],
   "source": [
    "data.cabin_adv.value_counts()"
   ]
  },
  {
   "cell_type": "code",
   "execution_count": 15,
   "id": "c22ac8a8",
   "metadata": {},
   "outputs": [],
   "source": [
    "data['cabin_adv'] = data['cabin_adv'].replace('n', 1)\n",
    "data['cabin_adv'] = data['cabin_adv'].replace('C', 2)\n",
    "data['cabin_adv'] = data['cabin_adv'].replace('B', 3)\n",
    "data['cabin_adv'] = data['cabin_adv'].replace('D', 4)\n",
    "data['cabin_adv'] = data['cabin_adv'].replace('E', 5)\n",
    "data['cabin_adv'] = data['cabin_adv'].replace('A', 6)\n",
    "data['cabin_adv'] = data['cabin_adv'].replace('F', 7)\n",
    "data['cabin_adv'] = data['cabin_adv'].replace('G', 8)\n",
    "data['cabin_adv'] = data['cabin_adv'].replace('T', 9)"
   ]
  },
  {
   "cell_type": "code",
   "execution_count": 16,
   "id": "e22776d1",
   "metadata": {},
   "outputs": [],
   "source": [
    "data['Sex'] = data['Sex'].replace('male', 1)\n",
    "data['Sex'] = data['Sex'].replace('female', 2)"
   ]
  },
  {
   "cell_type": "code",
   "execution_count": 17,
   "id": "79391e7c",
   "metadata": {},
   "outputs": [
    {
     "data": {
      "text/plain": [
       "Mr        757\n",
       "Miss      264\n",
       "Mrs       198\n",
       "Master     61\n",
       "Rare       29\n",
       "Name: Title, dtype: int64"
      ]
     },
     "execution_count": 17,
     "metadata": {},
     "output_type": "execute_result"
    }
   ],
   "source": [
    "data.Title.value_counts()"
   ]
  },
  {
   "cell_type": "code",
   "execution_count": 18,
   "id": "3a6f4af1",
   "metadata": {},
   "outputs": [],
   "source": [
    "data['Title'] = data['Title'].replace('Mr', 1)\n",
    "data['Title'] = data['Title'].replace('Miss', 2)\n",
    "data['Title'] = data['Title'].replace('Mrs', 3)\n",
    "data['Title'] = data['Title'].replace('Master', 4)\n",
    "data['Title'] = data['Title'].replace('Rare', 5)"
   ]
  },
  {
   "cell_type": "code",
   "execution_count": 19,
   "id": "c8cdd148",
   "metadata": {},
   "outputs": [],
   "source": [
    "data=data.drop(['Name','Ticket','Title','Cabin'], axis =1)"
   ]
  },
  {
   "cell_type": "code",
   "execution_count": 20,
   "id": "09aa5781",
   "metadata": {},
   "outputs": [
    {
     "data": {
      "text/plain": [
       "Survived          418\n",
       "Embarked            2\n",
       "PassengerId         0\n",
       "Pclass              0\n",
       "Sex                 0\n",
       "Age                 0\n",
       "SibSp               0\n",
       "Parch               0\n",
       "Fare                0\n",
       "train_test          0\n",
       "numeric_ticket      0\n",
       "cabin_multiple      0\n",
       "cabin_adv           0\n",
       "dtype: int64"
      ]
     },
     "execution_count": 20,
     "metadata": {},
     "output_type": "execute_result"
    }
   ],
   "source": [
    "data.isna().sum().sort_values(ascending=False)"
   ]
  },
  {
   "cell_type": "code",
   "execution_count": 21,
   "id": "6f99befc",
   "metadata": {},
   "outputs": [
    {
     "data": {
      "text/plain": [
       "1.0    914\n",
       "2.0    270\n",
       "3.0    123\n",
       "Name: Embarked, dtype: int64"
      ]
     },
     "execution_count": 21,
     "metadata": {},
     "output_type": "execute_result"
    }
   ],
   "source": [
    "data.Embarked.value_counts()"
   ]
  },
  {
   "cell_type": "code",
   "execution_count": 22,
   "id": "af02193a",
   "metadata": {},
   "outputs": [],
   "source": [
    "data.Embarked = data.Embarked.fillna(train_df.Fare.median())"
   ]
  },
  {
   "cell_type": "code",
   "execution_count": 23,
   "id": "14f36ea8",
   "metadata": {},
   "outputs": [
    {
     "data": {
      "text/plain": [
       "Survived          418\n",
       "PassengerId         0\n",
       "Pclass              0\n",
       "Sex                 0\n",
       "Age                 0\n",
       "SibSp               0\n",
       "Parch               0\n",
       "Fare                0\n",
       "Embarked            0\n",
       "train_test          0\n",
       "numeric_ticket      0\n",
       "cabin_multiple      0\n",
       "cabin_adv           0\n",
       "dtype: int64"
      ]
     },
     "execution_count": 23,
     "metadata": {},
     "output_type": "execute_result"
    }
   ],
   "source": [
    "data.isna().sum().sort_values(ascending=False)"
   ]
  },
  {
   "cell_type": "code",
   "execution_count": null,
   "id": "113770b0",
   "metadata": {},
   "outputs": [],
   "source": []
  },
  {
   "cell_type": "code",
   "execution_count": 24,
   "id": "d7d6bbdd",
   "metadata": {},
   "outputs": [],
   "source": [
    "from sklearn.preprocessing import StandardScaler\n",
    "scale = StandardScaler()\n",
    "all_dummies_scaled = data.copy()"
   ]
  },
  {
   "cell_type": "code",
   "execution_count": 25,
   "id": "dec63624",
   "metadata": {},
   "outputs": [
    {
     "data": {
      "text/html": [
       "<div>\n",
       "<style scoped>\n",
       "    .dataframe tbody tr th:only-of-type {\n",
       "        vertical-align: middle;\n",
       "    }\n",
       "\n",
       "    .dataframe tbody tr th {\n",
       "        vertical-align: top;\n",
       "    }\n",
       "\n",
       "    .dataframe thead th {\n",
       "        text-align: right;\n",
       "    }\n",
       "</style>\n",
       "<table border=\"1\" class=\"dataframe\">\n",
       "  <thead>\n",
       "    <tr style=\"text-align: right;\">\n",
       "      <th></th>\n",
       "      <th>PassengerId</th>\n",
       "      <th>Survived</th>\n",
       "      <th>Pclass</th>\n",
       "      <th>Sex</th>\n",
       "      <th>Age</th>\n",
       "      <th>SibSp</th>\n",
       "      <th>Parch</th>\n",
       "      <th>Fare</th>\n",
       "      <th>Embarked</th>\n",
       "      <th>train_test</th>\n",
       "      <th>numeric_ticket</th>\n",
       "      <th>cabin_multiple</th>\n",
       "      <th>cabin_adv</th>\n",
       "    </tr>\n",
       "  </thead>\n",
       "  <tbody>\n",
       "    <tr>\n",
       "      <th>0</th>\n",
       "      <td>1</td>\n",
       "      <td>0.0</td>\n",
       "      <td>3</td>\n",
       "      <td>1</td>\n",
       "      <td>22.0</td>\n",
       "      <td>1</td>\n",
       "      <td>0</td>\n",
       "      <td>7.2500</td>\n",
       "      <td>1.0</td>\n",
       "      <td>1</td>\n",
       "      <td>0</td>\n",
       "      <td>0</td>\n",
       "      <td>1</td>\n",
       "    </tr>\n",
       "    <tr>\n",
       "      <th>1</th>\n",
       "      <td>2</td>\n",
       "      <td>1.0</td>\n",
       "      <td>1</td>\n",
       "      <td>2</td>\n",
       "      <td>38.0</td>\n",
       "      <td>1</td>\n",
       "      <td>0</td>\n",
       "      <td>71.2833</td>\n",
       "      <td>2.0</td>\n",
       "      <td>1</td>\n",
       "      <td>0</td>\n",
       "      <td>1</td>\n",
       "      <td>2</td>\n",
       "    </tr>\n",
       "    <tr>\n",
       "      <th>2</th>\n",
       "      <td>3</td>\n",
       "      <td>1.0</td>\n",
       "      <td>3</td>\n",
       "      <td>2</td>\n",
       "      <td>26.0</td>\n",
       "      <td>0</td>\n",
       "      <td>0</td>\n",
       "      <td>7.9250</td>\n",
       "      <td>1.0</td>\n",
       "      <td>1</td>\n",
       "      <td>0</td>\n",
       "      <td>0</td>\n",
       "      <td>1</td>\n",
       "    </tr>\n",
       "    <tr>\n",
       "      <th>3</th>\n",
       "      <td>4</td>\n",
       "      <td>1.0</td>\n",
       "      <td>1</td>\n",
       "      <td>2</td>\n",
       "      <td>35.0</td>\n",
       "      <td>1</td>\n",
       "      <td>0</td>\n",
       "      <td>53.1000</td>\n",
       "      <td>1.0</td>\n",
       "      <td>1</td>\n",
       "      <td>1</td>\n",
       "      <td>1</td>\n",
       "      <td>2</td>\n",
       "    </tr>\n",
       "    <tr>\n",
       "      <th>4</th>\n",
       "      <td>5</td>\n",
       "      <td>0.0</td>\n",
       "      <td>3</td>\n",
       "      <td>1</td>\n",
       "      <td>35.0</td>\n",
       "      <td>0</td>\n",
       "      <td>0</td>\n",
       "      <td>8.0500</td>\n",
       "      <td>1.0</td>\n",
       "      <td>1</td>\n",
       "      <td>1</td>\n",
       "      <td>0</td>\n",
       "      <td>1</td>\n",
       "    </tr>\n",
       "    <tr>\n",
       "      <th>...</th>\n",
       "      <td>...</td>\n",
       "      <td>...</td>\n",
       "      <td>...</td>\n",
       "      <td>...</td>\n",
       "      <td>...</td>\n",
       "      <td>...</td>\n",
       "      <td>...</td>\n",
       "      <td>...</td>\n",
       "      <td>...</td>\n",
       "      <td>...</td>\n",
       "      <td>...</td>\n",
       "      <td>...</td>\n",
       "      <td>...</td>\n",
       "    </tr>\n",
       "    <tr>\n",
       "      <th>413</th>\n",
       "      <td>1305</td>\n",
       "      <td>NaN</td>\n",
       "      <td>3</td>\n",
       "      <td>1</td>\n",
       "      <td>28.0</td>\n",
       "      <td>0</td>\n",
       "      <td>0</td>\n",
       "      <td>8.0500</td>\n",
       "      <td>1.0</td>\n",
       "      <td>0</td>\n",
       "      <td>0</td>\n",
       "      <td>0</td>\n",
       "      <td>1</td>\n",
       "    </tr>\n",
       "    <tr>\n",
       "      <th>414</th>\n",
       "      <td>1306</td>\n",
       "      <td>NaN</td>\n",
       "      <td>1</td>\n",
       "      <td>2</td>\n",
       "      <td>39.0</td>\n",
       "      <td>0</td>\n",
       "      <td>0</td>\n",
       "      <td>108.9000</td>\n",
       "      <td>2.0</td>\n",
       "      <td>0</td>\n",
       "      <td>0</td>\n",
       "      <td>1</td>\n",
       "      <td>2</td>\n",
       "    </tr>\n",
       "    <tr>\n",
       "      <th>415</th>\n",
       "      <td>1307</td>\n",
       "      <td>NaN</td>\n",
       "      <td>3</td>\n",
       "      <td>1</td>\n",
       "      <td>38.5</td>\n",
       "      <td>0</td>\n",
       "      <td>0</td>\n",
       "      <td>7.2500</td>\n",
       "      <td>1.0</td>\n",
       "      <td>0</td>\n",
       "      <td>0</td>\n",
       "      <td>0</td>\n",
       "      <td>1</td>\n",
       "    </tr>\n",
       "    <tr>\n",
       "      <th>416</th>\n",
       "      <td>1308</td>\n",
       "      <td>NaN</td>\n",
       "      <td>3</td>\n",
       "      <td>1</td>\n",
       "      <td>28.0</td>\n",
       "      <td>0</td>\n",
       "      <td>0</td>\n",
       "      <td>8.0500</td>\n",
       "      <td>1.0</td>\n",
       "      <td>0</td>\n",
       "      <td>1</td>\n",
       "      <td>0</td>\n",
       "      <td>1</td>\n",
       "    </tr>\n",
       "    <tr>\n",
       "      <th>417</th>\n",
       "      <td>1309</td>\n",
       "      <td>NaN</td>\n",
       "      <td>3</td>\n",
       "      <td>1</td>\n",
       "      <td>28.0</td>\n",
       "      <td>1</td>\n",
       "      <td>1</td>\n",
       "      <td>22.3583</td>\n",
       "      <td>2.0</td>\n",
       "      <td>0</td>\n",
       "      <td>1</td>\n",
       "      <td>0</td>\n",
       "      <td>1</td>\n",
       "    </tr>\n",
       "  </tbody>\n",
       "</table>\n",
       "<p>1309 rows × 13 columns</p>\n",
       "</div>"
      ],
      "text/plain": [
       "     PassengerId  Survived  Pclass  Sex   Age  SibSp  Parch      Fare  \\\n",
       "0              1       0.0       3    1  22.0      1      0    7.2500   \n",
       "1              2       1.0       1    2  38.0      1      0   71.2833   \n",
       "2              3       1.0       3    2  26.0      0      0    7.9250   \n",
       "3              4       1.0       1    2  35.0      1      0   53.1000   \n",
       "4              5       0.0       3    1  35.0      0      0    8.0500   \n",
       "..           ...       ...     ...  ...   ...    ...    ...       ...   \n",
       "413         1305       NaN       3    1  28.0      0      0    8.0500   \n",
       "414         1306       NaN       1    2  39.0      0      0  108.9000   \n",
       "415         1307       NaN       3    1  38.5      0      0    7.2500   \n",
       "416         1308       NaN       3    1  28.0      0      0    8.0500   \n",
       "417         1309       NaN       3    1  28.0      1      1   22.3583   \n",
       "\n",
       "     Embarked  train_test  numeric_ticket  cabin_multiple  cabin_adv  \n",
       "0         1.0           1               0               0          1  \n",
       "1         2.0           1               0               1          2  \n",
       "2         1.0           1               0               0          1  \n",
       "3         1.0           1               1               1          2  \n",
       "4         1.0           1               1               0          1  \n",
       "..        ...         ...             ...             ...        ...  \n",
       "413       1.0           0               0               0          1  \n",
       "414       2.0           0               0               1          2  \n",
       "415       1.0           0               0               0          1  \n",
       "416       1.0           0               1               0          1  \n",
       "417       2.0           0               1               0          1  \n",
       "\n",
       "[1309 rows x 13 columns]"
      ]
     },
     "execution_count": 25,
     "metadata": {},
     "output_type": "execute_result"
    }
   ],
   "source": [
    "all_dummies_scaled "
   ]
  },
  {
   "cell_type": "code",
   "execution_count": 26,
   "id": "87b3f0c8",
   "metadata": {},
   "outputs": [
    {
     "data": {
      "text/html": [
       "<div>\n",
       "<style scoped>\n",
       "    .dataframe tbody tr th:only-of-type {\n",
       "        vertical-align: middle;\n",
       "    }\n",
       "\n",
       "    .dataframe tbody tr th {\n",
       "        vertical-align: top;\n",
       "    }\n",
       "\n",
       "    .dataframe thead th {\n",
       "        text-align: right;\n",
       "    }\n",
       "</style>\n",
       "<table border=\"1\" class=\"dataframe\">\n",
       "  <thead>\n",
       "    <tr style=\"text-align: right;\">\n",
       "      <th></th>\n",
       "      <th>PassengerId</th>\n",
       "      <th>Survived</th>\n",
       "      <th>Pclass</th>\n",
       "      <th>Sex</th>\n",
       "      <th>Age</th>\n",
       "      <th>SibSp</th>\n",
       "      <th>Parch</th>\n",
       "      <th>Fare</th>\n",
       "      <th>Embarked</th>\n",
       "      <th>train_test</th>\n",
       "      <th>numeric_ticket</th>\n",
       "      <th>cabin_multiple</th>\n",
       "      <th>cabin_adv</th>\n",
       "    </tr>\n",
       "  </thead>\n",
       "  <tbody>\n",
       "    <tr>\n",
       "      <th>0</th>\n",
       "      <td>1</td>\n",
       "      <td>0.0</td>\n",
       "      <td>0.841916</td>\n",
       "      <td>-0.743497</td>\n",
       "      <td>-0.581628</td>\n",
       "      <td>0.481288</td>\n",
       "      <td>-0.445000</td>\n",
       "      <td>-0.503291</td>\n",
       "      <td>-0.500508</td>\n",
       "      <td>1</td>\n",
       "      <td>0</td>\n",
       "      <td>0</td>\n",
       "      <td>-0.441136</td>\n",
       "    </tr>\n",
       "    <tr>\n",
       "      <th>1</th>\n",
       "      <td>2</td>\n",
       "      <td>1.0</td>\n",
       "      <td>-1.546098</td>\n",
       "      <td>1.344995</td>\n",
       "      <td>0.658652</td>\n",
       "      <td>0.481288</td>\n",
       "      <td>-0.445000</td>\n",
       "      <td>0.734744</td>\n",
       "      <td>0.706261</td>\n",
       "      <td>1</td>\n",
       "      <td>0</td>\n",
       "      <td>1</td>\n",
       "      <td>0.276189</td>\n",
       "    </tr>\n",
       "    <tr>\n",
       "      <th>2</th>\n",
       "      <td>3</td>\n",
       "      <td>1.0</td>\n",
       "      <td>0.841916</td>\n",
       "      <td>1.344995</td>\n",
       "      <td>-0.271558</td>\n",
       "      <td>-0.479087</td>\n",
       "      <td>-0.445000</td>\n",
       "      <td>-0.490240</td>\n",
       "      <td>-0.500508</td>\n",
       "      <td>1</td>\n",
       "      <td>0</td>\n",
       "      <td>0</td>\n",
       "      <td>-0.441136</td>\n",
       "    </tr>\n",
       "    <tr>\n",
       "      <th>3</th>\n",
       "      <td>4</td>\n",
       "      <td>1.0</td>\n",
       "      <td>-1.546098</td>\n",
       "      <td>1.344995</td>\n",
       "      <td>0.426099</td>\n",
       "      <td>0.481288</td>\n",
       "      <td>-0.445000</td>\n",
       "      <td>0.383183</td>\n",
       "      <td>-0.500508</td>\n",
       "      <td>1</td>\n",
       "      <td>1</td>\n",
       "      <td>1</td>\n",
       "      <td>0.276189</td>\n",
       "    </tr>\n",
       "    <tr>\n",
       "      <th>4</th>\n",
       "      <td>5</td>\n",
       "      <td>0.0</td>\n",
       "      <td>0.841916</td>\n",
       "      <td>-0.743497</td>\n",
       "      <td>0.426099</td>\n",
       "      <td>-0.479087</td>\n",
       "      <td>-0.445000</td>\n",
       "      <td>-0.487824</td>\n",
       "      <td>-0.500508</td>\n",
       "      <td>1</td>\n",
       "      <td>1</td>\n",
       "      <td>0</td>\n",
       "      <td>-0.441136</td>\n",
       "    </tr>\n",
       "    <tr>\n",
       "      <th>...</th>\n",
       "      <td>...</td>\n",
       "      <td>...</td>\n",
       "      <td>...</td>\n",
       "      <td>...</td>\n",
       "      <td>...</td>\n",
       "      <td>...</td>\n",
       "      <td>...</td>\n",
       "      <td>...</td>\n",
       "      <td>...</td>\n",
       "      <td>...</td>\n",
       "      <td>...</td>\n",
       "      <td>...</td>\n",
       "      <td>...</td>\n",
       "    </tr>\n",
       "    <tr>\n",
       "      <th>413</th>\n",
       "      <td>1305</td>\n",
       "      <td>NaN</td>\n",
       "      <td>0.841916</td>\n",
       "      <td>-0.743497</td>\n",
       "      <td>-0.116523</td>\n",
       "      <td>-0.479087</td>\n",
       "      <td>-0.445000</td>\n",
       "      <td>-0.487824</td>\n",
       "      <td>-0.500508</td>\n",
       "      <td>0</td>\n",
       "      <td>0</td>\n",
       "      <td>0</td>\n",
       "      <td>-0.441136</td>\n",
       "    </tr>\n",
       "    <tr>\n",
       "      <th>414</th>\n",
       "      <td>1306</td>\n",
       "      <td>NaN</td>\n",
       "      <td>-1.546098</td>\n",
       "      <td>1.344995</td>\n",
       "      <td>0.736169</td>\n",
       "      <td>-0.479087</td>\n",
       "      <td>-0.445000</td>\n",
       "      <td>1.462034</td>\n",
       "      <td>0.706261</td>\n",
       "      <td>0</td>\n",
       "      <td>0</td>\n",
       "      <td>1</td>\n",
       "      <td>0.276189</td>\n",
       "    </tr>\n",
       "    <tr>\n",
       "      <th>415</th>\n",
       "      <td>1307</td>\n",
       "      <td>NaN</td>\n",
       "      <td>0.841916</td>\n",
       "      <td>-0.743497</td>\n",
       "      <td>0.697411</td>\n",
       "      <td>-0.479087</td>\n",
       "      <td>-0.445000</td>\n",
       "      <td>-0.503291</td>\n",
       "      <td>-0.500508</td>\n",
       "      <td>0</td>\n",
       "      <td>0</td>\n",
       "      <td>0</td>\n",
       "      <td>-0.441136</td>\n",
       "    </tr>\n",
       "    <tr>\n",
       "      <th>416</th>\n",
       "      <td>1308</td>\n",
       "      <td>NaN</td>\n",
       "      <td>0.841916</td>\n",
       "      <td>-0.743497</td>\n",
       "      <td>-0.116523</td>\n",
       "      <td>-0.479087</td>\n",
       "      <td>-0.445000</td>\n",
       "      <td>-0.487824</td>\n",
       "      <td>-0.500508</td>\n",
       "      <td>0</td>\n",
       "      <td>1</td>\n",
       "      <td>0</td>\n",
       "      <td>-0.441136</td>\n",
       "    </tr>\n",
       "    <tr>\n",
       "      <th>417</th>\n",
       "      <td>1309</td>\n",
       "      <td>NaN</td>\n",
       "      <td>0.841916</td>\n",
       "      <td>-0.743497</td>\n",
       "      <td>-0.116523</td>\n",
       "      <td>0.481288</td>\n",
       "      <td>0.710763</td>\n",
       "      <td>-0.211184</td>\n",
       "      <td>0.706261</td>\n",
       "      <td>0</td>\n",
       "      <td>1</td>\n",
       "      <td>0</td>\n",
       "      <td>-0.441136</td>\n",
       "    </tr>\n",
       "  </tbody>\n",
       "</table>\n",
       "<p>1309 rows × 13 columns</p>\n",
       "</div>"
      ],
      "text/plain": [
       "     PassengerId  Survived    Pclass       Sex       Age     SibSp     Parch  \\\n",
       "0              1       0.0  0.841916 -0.743497 -0.581628  0.481288 -0.445000   \n",
       "1              2       1.0 -1.546098  1.344995  0.658652  0.481288 -0.445000   \n",
       "2              3       1.0  0.841916  1.344995 -0.271558 -0.479087 -0.445000   \n",
       "3              4       1.0 -1.546098  1.344995  0.426099  0.481288 -0.445000   \n",
       "4              5       0.0  0.841916 -0.743497  0.426099 -0.479087 -0.445000   \n",
       "..           ...       ...       ...       ...       ...       ...       ...   \n",
       "413         1305       NaN  0.841916 -0.743497 -0.116523 -0.479087 -0.445000   \n",
       "414         1306       NaN -1.546098  1.344995  0.736169 -0.479087 -0.445000   \n",
       "415         1307       NaN  0.841916 -0.743497  0.697411 -0.479087 -0.445000   \n",
       "416         1308       NaN  0.841916 -0.743497 -0.116523 -0.479087 -0.445000   \n",
       "417         1309       NaN  0.841916 -0.743497 -0.116523  0.481288  0.710763   \n",
       "\n",
       "         Fare  Embarked  train_test  numeric_ticket  cabin_multiple  cabin_adv  \n",
       "0   -0.503291 -0.500508           1               0               0  -0.441136  \n",
       "1    0.734744  0.706261           1               0               1   0.276189  \n",
       "2   -0.490240 -0.500508           1               0               0  -0.441136  \n",
       "3    0.383183 -0.500508           1               1               1   0.276189  \n",
       "4   -0.487824 -0.500508           1               1               0  -0.441136  \n",
       "..        ...       ...         ...             ...             ...        ...  \n",
       "413 -0.487824 -0.500508           0               0               0  -0.441136  \n",
       "414  1.462034  0.706261           0               0               1   0.276189  \n",
       "415 -0.503291 -0.500508           0               0               0  -0.441136  \n",
       "416 -0.487824 -0.500508           0               1               0  -0.441136  \n",
       "417 -0.211184  0.706261           0               1               0  -0.441136  \n",
       "\n",
       "[1309 rows x 13 columns]"
      ]
     },
     "execution_count": 26,
     "metadata": {},
     "output_type": "execute_result"
    }
   ],
   "source": [
    "all_dummies_scaled[['Pclass','Sex','SibSp','Embarked','Parch','Age','Fare','cabin_adv']]= scale.fit_transform(all_dummies_scaled[['Pclass','Sex','SibSp','Embarked','Parch','Age','Fare','cabin_adv']])\n",
    "all_dummies_scaled"
   ]
  },
  {
   "cell_type": "code",
   "execution_count": 27,
   "id": "26602e79",
   "metadata": {},
   "outputs": [],
   "source": [
    "all_dummies_scaled=all_dummies_scaled.drop(['PassengerId','Survived'], axis =1)"
   ]
  },
  {
   "cell_type": "code",
   "execution_count": 28,
   "id": "8925015b",
   "metadata": {},
   "outputs": [],
   "source": [
    "#all_dummies_scaled=all_dummies_scaled.drop(['Embarked'], axis =1)"
   ]
  },
  {
   "cell_type": "code",
   "execution_count": 29,
   "id": "91d785b1",
   "metadata": {},
   "outputs": [],
   "source": [
    "X_train_scaled = all_dummies_scaled[all_dummies_scaled.train_test == 1].drop(['train_test'], axis =1)\n",
    "X_test_scaled = all_dummies_scaled[all_dummies_scaled.train_test == 0].drop(['train_test'], axis =1)\n",
    "\n",
    "y_train = all_data[all_data.train_test==1].Survived"
   ]
  },
  {
   "cell_type": "code",
   "execution_count": 30,
   "id": "5cbfd768",
   "metadata": {},
   "outputs": [
    {
     "data": {
      "text/html": [
       "<div>\n",
       "<style scoped>\n",
       "    .dataframe tbody tr th:only-of-type {\n",
       "        vertical-align: middle;\n",
       "    }\n",
       "\n",
       "    .dataframe tbody tr th {\n",
       "        vertical-align: top;\n",
       "    }\n",
       "\n",
       "    .dataframe thead th {\n",
       "        text-align: right;\n",
       "    }\n",
       "</style>\n",
       "<table border=\"1\" class=\"dataframe\">\n",
       "  <thead>\n",
       "    <tr style=\"text-align: right;\">\n",
       "      <th></th>\n",
       "      <th>Pclass</th>\n",
       "      <th>Sex</th>\n",
       "      <th>Age</th>\n",
       "      <th>SibSp</th>\n",
       "      <th>Parch</th>\n",
       "      <th>Fare</th>\n",
       "      <th>Embarked</th>\n",
       "      <th>numeric_ticket</th>\n",
       "      <th>cabin_multiple</th>\n",
       "      <th>cabin_adv</th>\n",
       "    </tr>\n",
       "  </thead>\n",
       "  <tbody>\n",
       "    <tr>\n",
       "      <th>0</th>\n",
       "      <td>0.841916</td>\n",
       "      <td>-0.743497</td>\n",
       "      <td>-0.581628</td>\n",
       "      <td>0.481288</td>\n",
       "      <td>-0.445</td>\n",
       "      <td>-0.503291</td>\n",
       "      <td>-0.500508</td>\n",
       "      <td>0</td>\n",
       "      <td>0</td>\n",
       "      <td>-0.441136</td>\n",
       "    </tr>\n",
       "    <tr>\n",
       "      <th>1</th>\n",
       "      <td>-1.546098</td>\n",
       "      <td>1.344995</td>\n",
       "      <td>0.658652</td>\n",
       "      <td>0.481288</td>\n",
       "      <td>-0.445</td>\n",
       "      <td>0.734744</td>\n",
       "      <td>0.706261</td>\n",
       "      <td>0</td>\n",
       "      <td>1</td>\n",
       "      <td>0.276189</td>\n",
       "    </tr>\n",
       "    <tr>\n",
       "      <th>2</th>\n",
       "      <td>0.841916</td>\n",
       "      <td>1.344995</td>\n",
       "      <td>-0.271558</td>\n",
       "      <td>-0.479087</td>\n",
       "      <td>-0.445</td>\n",
       "      <td>-0.490240</td>\n",
       "      <td>-0.500508</td>\n",
       "      <td>0</td>\n",
       "      <td>0</td>\n",
       "      <td>-0.441136</td>\n",
       "    </tr>\n",
       "    <tr>\n",
       "      <th>3</th>\n",
       "      <td>-1.546098</td>\n",
       "      <td>1.344995</td>\n",
       "      <td>0.426099</td>\n",
       "      <td>0.481288</td>\n",
       "      <td>-0.445</td>\n",
       "      <td>0.383183</td>\n",
       "      <td>-0.500508</td>\n",
       "      <td>1</td>\n",
       "      <td>1</td>\n",
       "      <td>0.276189</td>\n",
       "    </tr>\n",
       "    <tr>\n",
       "      <th>4</th>\n",
       "      <td>0.841916</td>\n",
       "      <td>-0.743497</td>\n",
       "      <td>0.426099</td>\n",
       "      <td>-0.479087</td>\n",
       "      <td>-0.445</td>\n",
       "      <td>-0.487824</td>\n",
       "      <td>-0.500508</td>\n",
       "      <td>1</td>\n",
       "      <td>0</td>\n",
       "      <td>-0.441136</td>\n",
       "    </tr>\n",
       "  </tbody>\n",
       "</table>\n",
       "</div>"
      ],
      "text/plain": [
       "     Pclass       Sex       Age     SibSp  Parch      Fare  Embarked  \\\n",
       "0  0.841916 -0.743497 -0.581628  0.481288 -0.445 -0.503291 -0.500508   \n",
       "1 -1.546098  1.344995  0.658652  0.481288 -0.445  0.734744  0.706261   \n",
       "2  0.841916  1.344995 -0.271558 -0.479087 -0.445 -0.490240 -0.500508   \n",
       "3 -1.546098  1.344995  0.426099  0.481288 -0.445  0.383183 -0.500508   \n",
       "4  0.841916 -0.743497  0.426099 -0.479087 -0.445 -0.487824 -0.500508   \n",
       "\n",
       "   numeric_ticket  cabin_multiple  cabin_adv  \n",
       "0               0               0  -0.441136  \n",
       "1               0               1   0.276189  \n",
       "2               0               0  -0.441136  \n",
       "3               1               1   0.276189  \n",
       "4               1               0  -0.441136  "
      ]
     },
     "execution_count": 30,
     "metadata": {},
     "output_type": "execute_result"
    }
   ],
   "source": [
    "X_train_scaled.head()"
   ]
  },
  {
   "cell_type": "code",
   "execution_count": 31,
   "id": "79ce3461",
   "metadata": {},
   "outputs": [
    {
     "data": {
      "image/png": "[encoded data removed]",
      "text/plain": [
       "<Figure size 1440x504 with 2 Axes>"
      ]
     },
     "metadata": {
      "needs_background": "light"
     },
     "output_type": "display_data"
    }
   ],
   "source": [
    "numeric_corr = X_train_scaled.corr()\n",
    "plt.figure(figsize = (20,7))\n",
    "sns.heatmap(numeric_corr, annot = True);"
   ]
  },
  {
   "cell_type": "code",
   "execution_count": null,
   "id": "812b2249",
   "metadata": {},
   "outputs": [],
   "source": []
  },
  {
   "cell_type": "code",
   "execution_count": 32,
   "id": "b3a5d7ae",
   "metadata": {},
   "outputs": [
    {
     "data": {
      "text/plain": [
       "Pclass            0\n",
       "Sex               0\n",
       "Age               0\n",
       "SibSp             0\n",
       "Parch             0\n",
       "Fare              0\n",
       "Embarked          0\n",
       "numeric_ticket    0\n",
       "cabin_multiple    0\n",
       "cabin_adv         0\n",
       "dtype: int64"
      ]
     },
     "execution_count": 32,
     "metadata": {},
     "output_type": "execute_result"
    }
   ],
   "source": [
    "X_train_scaled.isna().sum().sort_values(ascending=False)"
   ]
  },
  {
   "cell_type": "code",
   "execution_count": 33,
   "id": "5fa49759",
   "metadata": {},
   "outputs": [],
   "source": [
    "from sklearn.model_selection import cross_val_score\n",
    "from sklearn.linear_model import LogisticRegression\n",
    "from sklearn import tree\n",
    "from sklearn.neighbors import KNeighborsClassifier\n",
    "from sklearn.ensemble import RandomForestClassifier\n",
    "from sklearn.svm import SVC"
   ]
  },
  {
   "cell_type": "code",
   "execution_count": 35,
   "id": "47eb7ca8",
   "metadata": {},
   "outputs": [
    {
     "name": "stdout",
     "output_type": "stream",
     "text": [
      "[0.81005587 0.79213483 0.79213483 0.76966292 0.8258427 ]\n",
      "0.7979662293641328\n"
     ]
    }
   ],
   "source": [
    "lr = LogisticRegression(max_iter = 2000)\n",
    "cv = cross_val_score(lr,X_train_scaled,y_train,cv=5)\n",
    "print(cv)\n",
    "print(cv.mean())"
   ]
  },
  {
   "cell_type": "code",
   "execution_count": 37,
   "id": "4c066609",
   "metadata": {},
   "outputs": [
    {
     "name": "stdout",
     "output_type": "stream",
     "text": [
      "[0.78212291 0.76404494 0.82022472 0.78651685 0.82022472]\n",
      "0.7946268281965978\n"
     ]
    }
   ],
   "source": [
    "knn = KNeighborsClassifier()\n",
    "cv = cross_val_score(knn,X_train_scaled,y_train,cv=5)\n",
    "print(cv)\n",
    "print(cv.mean())"
   ]
  },
  {
   "cell_type": "code",
   "execution_count": 38,
   "id": "00758368",
   "metadata": {},
   "outputs": [
    {
     "name": "stdout",
     "output_type": "stream",
     "text": [
      "[0.7877095  0.78089888 0.85955056 0.75842697 0.83707865]\n",
      "0.8047329106772958\n"
     ]
    }
   ],
   "source": [
    "rf = RandomForestClassifier(random_state = 1)\n",
    "cv = cross_val_score(rf,X_train_scaled,y_train,cv=5)\n",
    "print(cv)\n",
    "print(cv.mean())"
   ]
  },
  {
   "cell_type": "code",
   "execution_count": 39,
   "id": "ee9956f1",
   "metadata": {},
   "outputs": [
    {
     "name": "stdout",
     "output_type": "stream",
     "text": [
      "[0.83240223 0.80898876 0.82022472 0.80337079 0.84831461]\n",
      "0.8226602222082733\n"
     ]
    }
   ],
   "source": [
    "svc = SVC(probability = True)\n",
    "cv = cross_val_score(svc,X_train_scaled,y_train,cv=5)\n",
    "print(cv)\n",
    "print(cv.mean())"
   ]
  },
  {
   "cell_type": "code",
   "execution_count": 40,
   "id": "3a915a3d",
   "metadata": {},
   "outputs": [
    {
     "name": "stdout",
     "output_type": "stream",
     "text": [
      "[0.76536313 0.82022472 0.86516854 0.78651685 0.84831461]\n",
      "0.8171175695185487\n"
     ]
    }
   ],
   "source": [
    "from xgboost import XGBClassifier\n",
    "xgb = XGBClassifier(random_state =1)\n",
    "cv = cross_val_score(xgb,X_train_scaled,y_train,cv=5)\n",
    "print(cv)\n",
    "print(cv.mean())"
   ]
  },
  {
   "cell_type": "code",
   "execution_count": 45,
   "id": "2d2d20ca",
   "metadata": {},
   "outputs": [
    {
     "name": "stdout",
     "output_type": "stream",
     "text": [
      "[0.7877095  0.78651685 0.82022472 0.78651685 0.79775281]\n",
      "0.795744146632352\n"
     ]
    }
   ],
   "source": [
    "from sklearn.neural_network import MLPClassifier\n",
    "MLP=MLPClassifier(max_iter=3000)\n",
    "cv = cross_val_score(MLP,X_train_scaled,y_train,cv=5)\n",
    "print(cv)\n",
    "print(cv.mean())"
   ]
  },
  {
   "cell_type": "code",
   "execution_count": 54,
   "id": "aadb4783",
   "metadata": {},
   "outputs": [
    {
     "name": "stdout",
     "output_type": "stream",
     "text": [
      "[0.73184358 0.7752809  0.8258427  0.75842697 0.84269663]\n",
      "0.7868181532860461\n"
     ]
    }
   ],
   "source": [
    "DCT= tree.DecisionTreeClassifier(random_state=10)\n",
    "cv = cross_val_score(DCT,X_train_scaled,y_train,cv=5)\n",
    "print(cv)\n",
    "print(cv.mean())"
   ]
  },
  {
   "cell_type": "code",
   "execution_count": 41,
   "id": "5493a9f0",
   "metadata": {},
   "outputs": [],
   "source": [
    "from sklearn.ensemble import VotingClassifier\n",
    "voting_clf = VotingClassifier(estimators = [('lr',lr),('knn',knn),('rf',rf),('gnb',gnb),('svc',svc),('xgb',xgb)], voting = 'soft') "
   ]
  },
  {
   "cell_type": "code",
   "execution_count": 42,
   "id": "a0ab4dac",
   "metadata": {},
   "outputs": [
    {
     "name": "stdout",
     "output_type": "stream",
     "text": [
      "[0.7877095  0.81460674 0.85393258 0.79775281 0.84269663]\n",
      "0.8193396522503296\n"
     ]
    }
   ],
   "source": [
    "cv = cross_val_score(voting_clf,X_train_scaled,y_train,cv=5)\n",
    "print(cv)\n",
    "print(cv.mean())"
   ]
  },
  {
   "cell_type": "code",
   "execution_count": 75,
   "id": "7f20ac54",
   "metadata": {},
   "outputs": [],
   "source": [
    "voting_clf = VotingClassifier(estimators = [('lr',lr),('knn',knn),('rf',rf),('mlp',MLP),('svc',svc),('xgb',xgb)], voting = 'soft') "
   ]
  },
  {
   "cell_type": "code",
   "execution_count": 76,
   "id": "46d9cabb",
   "metadata": {},
   "outputs": [
    {
     "name": "stdout",
     "output_type": "stream",
     "text": [
      "[0.79888268 0.82022472 0.85955056 0.79213483 0.85393258]\n",
      "0.8249450756386919\n"
     ]
    }
   ],
   "source": [
    "cv = cross_val_score(voting_clf,X_train_scaled,y_train,cv=5)\n",
    "print(cv)\n",
    "print(cv.mean())"
   ]
  },
  {
   "cell_type": "code",
   "execution_count": 77,
   "id": "8d299d6e",
   "metadata": {},
   "outputs": [],
   "source": [
    "voting_clf.fit(X_train_scaled,y_train)\n",
    "y_hat_base_vc = voting_clf.predict(X_test_scaled).astype(int)\n",
    "basic_submission = {'PassengerId': test_df.PassengerId, 'Survived': y_hat_base_vc}\n",
    "base_submission = pd.DataFrame(data=basic_submission)\n",
    "base_submission.to_csv('submission.csv', index=False)"
   ]
  }
 ],
 "metadata": {
  "kernelspec": {
   "display_name": "Python 3 (ipykernel)",
   "language": "python",
   "name": "python3"
  },
  "language_info": {
   "codemirror_mode": {
    "name": "ipython",
    "version": 3
   },
   "file_extension": ".py",
   "mimetype": "text/x-python",
   "name": "python",
   "nbconvert_exporter": "python",
   "pygments_lexer": "ipython3",
   "version": "3.9.12"
  }
 },
 "nbformat": 4,
 "nbformat_minor": 5
}
